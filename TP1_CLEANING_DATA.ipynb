{
  "nbformat": 4,
  "nbformat_minor": 0,
  "metadata": {
    "colab": {
      "name": "TP1_CLEANING_DATA.ipynb",
      "provenance": [],
      "collapsed_sections": []
    },
    "kernelspec": {
      "name": "python3",
      "display_name": "Python 3"
    },
    "language_info": {
      "name": "python"
    }
  },
  "cells": [
    {
      "cell_type": "markdown",
      "metadata": {
        "id": "dQsRJtu0oDrV"
      },
      "source": [
        "## **TP1**\n",
        "\n",
        "RÉALISER PAR: HADDAD SOUHA\n",
        "\n",
        "\n",
        "---\n",
        "\n"
      ]
    },
    {
      "cell_type": "code",
      "metadata": {
        "id": "R7moncKHFbDG",
        "colab": {
          "base_uri": "https://localhost:8080/"
        },
        "outputId": "7c608aca-3f19-4c97-ca43-8b8e9a3676a2"
      },
      "source": [
        "from google.colab import drive\n",
        "drive.mount('/content/drive')"
      ],
      "execution_count": 16,
      "outputs": [
        {
          "output_type": "stream",
          "name": "stdout",
          "text": [
            "Drive already mounted at /content/drive; to attempt to forcibly remount, call drive.mount(\"/content/drive\", force_remount=True).\n"
          ]
        }
      ]
    },
    {
      "cell_type": "markdown",
      "metadata": {
        "id": "gLiCqURtwmeL"
      },
      "source": [
        "**Importer les bibliothèques numpy et pandas et importer functools de reduce**"
      ]
    },
    {
      "cell_type": "code",
      "metadata": {
        "id": "QJUXSM1nBrVV"
      },
      "source": [
        "# Importer les bibliothèques nécessaires\n",
        "import pandas as pd\n",
        "import numpy as np"
      ],
      "execution_count": 17,
      "outputs": []
    },
    {
      "cell_type": "markdown",
      "metadata": {
        "id": "zSeSJnHaxKoL"
      },
      "source": [
        "# PART 1 : \n",
        "### **1 Exploration du datase**\n",
        "\n",
        "\n",
        "\n"
      ]
    },
    {
      "cell_type": "markdown",
      "metadata": {
        "id": "ohpB8R7pxCIb"
      },
      "source": [
        "Explorer la dataset BL-Flickr-Images-Book.csv"
      ]
    },
    {
      "cell_type": "code",
      "metadata": {
        "colab": {
          "base_uri": "https://localhost:8080/",
          "height": 513
        },
        "id": "ois5n_8nC3Yj",
        "outputId": "76509037-ecc2-4607-c612-fbb7e86b38c6"
      },
      "source": [
        "# Exporter BL-Flickr-Images-Book.csv dans un data frame nomé df\n",
        "df = pd.read_csv(\"https://raw.githubusercontent.com/nevermind78/DM/master/TP1/Datasets/BL-Flickr-Images-Book.csv\")\n",
        "# Afficher les 5 premières lignes\n",
        "df.head()\n"
      ],
      "execution_count": 18,
      "outputs": [
        {
          "output_type": "execute_result",
          "data": {
            "text/html": [
              "<div>\n",
              "<style scoped>\n",
              "    .dataframe tbody tr th:only-of-type {\n",
              "        vertical-align: middle;\n",
              "    }\n",
              "\n",
              "    .dataframe tbody tr th {\n",
              "        vertical-align: top;\n",
              "    }\n",
              "\n",
              "    .dataframe thead th {\n",
              "        text-align: right;\n",
              "    }\n",
              "</style>\n",
              "<table border=\"1\" class=\"dataframe\">\n",
              "  <thead>\n",
              "    <tr style=\"text-align: right;\">\n",
              "      <th></th>\n",
              "      <th>Identifier</th>\n",
              "      <th>Edition Statement</th>\n",
              "      <th>Place of Publication</th>\n",
              "      <th>Date of Publication</th>\n",
              "      <th>Publisher</th>\n",
              "      <th>Title</th>\n",
              "      <th>Author</th>\n",
              "      <th>Contributors</th>\n",
              "      <th>Corporate Author</th>\n",
              "      <th>Corporate Contributors</th>\n",
              "      <th>Former owner</th>\n",
              "      <th>Engraver</th>\n",
              "      <th>Issuance type</th>\n",
              "      <th>Flickr URL</th>\n",
              "      <th>Shelfmarks</th>\n",
              "    </tr>\n",
              "  </thead>\n",
              "  <tbody>\n",
              "    <tr>\n",
              "      <th>0</th>\n",
              "      <td>206</td>\n",
              "      <td>NaN</td>\n",
              "      <td>London</td>\n",
              "      <td>1879 [1878]</td>\n",
              "      <td>S. Tinsley &amp; Co.</td>\n",
              "      <td>Walter Forbes. [A novel.] By A. A</td>\n",
              "      <td>A. A.</td>\n",
              "      <td>FORBES, Walter.</td>\n",
              "      <td>NaN</td>\n",
              "      <td>NaN</td>\n",
              "      <td>NaN</td>\n",
              "      <td>NaN</td>\n",
              "      <td>monographic</td>\n",
              "      <td>http://www.flickr.com/photos/britishlibrary/ta...</td>\n",
              "      <td>British Library HMNTS 12641.b.30.</td>\n",
              "    </tr>\n",
              "    <tr>\n",
              "      <th>1</th>\n",
              "      <td>216</td>\n",
              "      <td>NaN</td>\n",
              "      <td>London; Virtue &amp; Yorston</td>\n",
              "      <td>1868</td>\n",
              "      <td>Virtue &amp; Co.</td>\n",
              "      <td>All for Greed. [A novel. The dedication signed...</td>\n",
              "      <td>A., A. A.</td>\n",
              "      <td>BLAZE DE BURY, Marie Pauline Rose - Baroness</td>\n",
              "      <td>NaN</td>\n",
              "      <td>NaN</td>\n",
              "      <td>NaN</td>\n",
              "      <td>NaN</td>\n",
              "      <td>monographic</td>\n",
              "      <td>http://www.flickr.com/photos/britishlibrary/ta...</td>\n",
              "      <td>British Library HMNTS 12626.cc.2.</td>\n",
              "    </tr>\n",
              "    <tr>\n",
              "      <th>2</th>\n",
              "      <td>218</td>\n",
              "      <td>NaN</td>\n",
              "      <td>London</td>\n",
              "      <td>1869</td>\n",
              "      <td>Bradbury, Evans &amp; Co.</td>\n",
              "      <td>Love the Avenger. By the author of “All for Gr...</td>\n",
              "      <td>A., A. A.</td>\n",
              "      <td>BLAZE DE BURY, Marie Pauline Rose - Baroness</td>\n",
              "      <td>NaN</td>\n",
              "      <td>NaN</td>\n",
              "      <td>NaN</td>\n",
              "      <td>NaN</td>\n",
              "      <td>monographic</td>\n",
              "      <td>http://www.flickr.com/photos/britishlibrary/ta...</td>\n",
              "      <td>British Library HMNTS 12625.dd.1.</td>\n",
              "    </tr>\n",
              "    <tr>\n",
              "      <th>3</th>\n",
              "      <td>472</td>\n",
              "      <td>NaN</td>\n",
              "      <td>London</td>\n",
              "      <td>1851</td>\n",
              "      <td>James Darling</td>\n",
              "      <td>Welsh Sketches, chiefly ecclesiastical, to the...</td>\n",
              "      <td>A., E. S.</td>\n",
              "      <td>Appleyard, Ernest Silvanus.</td>\n",
              "      <td>NaN</td>\n",
              "      <td>NaN</td>\n",
              "      <td>NaN</td>\n",
              "      <td>NaN</td>\n",
              "      <td>monographic</td>\n",
              "      <td>http://www.flickr.com/photos/britishlibrary/ta...</td>\n",
              "      <td>British Library HMNTS 10369.bbb.15.</td>\n",
              "    </tr>\n",
              "    <tr>\n",
              "      <th>4</th>\n",
              "      <td>480</td>\n",
              "      <td>A new edition, revised, etc.</td>\n",
              "      <td>London</td>\n",
              "      <td>1857</td>\n",
              "      <td>Wertheim &amp; Macintosh</td>\n",
              "      <td>[The World in which I live, and my place in it...</td>\n",
              "      <td>A., E. S.</td>\n",
              "      <td>BROOME, John Henry.</td>\n",
              "      <td>NaN</td>\n",
              "      <td>NaN</td>\n",
              "      <td>NaN</td>\n",
              "      <td>NaN</td>\n",
              "      <td>monographic</td>\n",
              "      <td>http://www.flickr.com/photos/britishlibrary/ta...</td>\n",
              "      <td>British Library HMNTS 9007.d.28.</td>\n",
              "    </tr>\n",
              "  </tbody>\n",
              "</table>\n",
              "</div>"
            ],
            "text/plain": [
              "   Identifier  ...                           Shelfmarks\n",
              "0         206  ...    British Library HMNTS 12641.b.30.\n",
              "1         216  ...    British Library HMNTS 12626.cc.2.\n",
              "2         218  ...    British Library HMNTS 12625.dd.1.\n",
              "3         472  ...  British Library HMNTS 10369.bbb.15.\n",
              "4         480  ...     British Library HMNTS 9007.d.28.\n",
              "\n",
              "[5 rows x 15 columns]"
            ]
          },
          "metadata": {},
          "execution_count": 18
        }
      ]
    },
    {
      "cell_type": "markdown",
      "metadata": {
        "id": "fl8n_sI1xALs"
      },
      "source": [
        "### **2 Jeter un coup d'oeil dans le dataset**"
      ]
    },
    {
      "cell_type": "code",
      "metadata": {
        "colab": {
          "base_uri": "https://localhost:8080/"
        },
        "id": "AVzAEUnIC6wC",
        "outputId": "2017b853-5044-4e9e-f07f-a055ad6d31b8"
      },
      "source": [
        "df.info()"
      ],
      "execution_count": 32,
      "outputs": [
        {
          "output_type": "stream",
          "name": "stdout",
          "text": [
            "<class 'pandas.core.frame.DataFrame'>\n",
            "Int64Index: 8287 entries, 206 to 4160339\n",
            "Data columns (total 6 columns):\n",
            " #   Column                Non-Null Count  Dtype \n",
            "---  ------                --------------  ----- \n",
            " 0   Place of Publication  8287 non-null   object\n",
            " 1   Date of Publication   8287 non-null   object\n",
            " 2   Publisher             4092 non-null   object\n",
            " 3   Title                 8287 non-null   object\n",
            " 4   Author                8287 non-null   object\n",
            " 5   Flickr URL            8287 non-null   object\n",
            "dtypes: object(6)\n",
            "memory usage: 453.2+ KB\n"
          ]
        }
      ]
    },
    {
      "cell_type": "markdown",
      "metadata": {
        "id": "g5wT1QxDyiDz"
      },
      "source": [
        "### **3 Qu'est ce que vous remarquez?**"
      ]
    },
    {
      "cell_type": "markdown",
      "metadata": {
        "id": "8uyE6WWQz2M9"
      },
      "source": [
        ""
      ]
    },
    {
      "cell_type": "markdown",
      "metadata": {
        "id": "7YVaMFa_ymo3"
      },
      "source": [
        "### **4 Dropping unnecessary columns**"
      ]
    },
    {
      "cell_type": "markdown",
      "metadata": {
        "id": "F4PVk5as0Dsw"
      },
      "source": [
        "Nous allons restreindre l'étude à seulement 7 colomnes pour cela nous allons supprimer 7 colonnes que nous jugeons unitiles por le moment :"
      ]
    },
    {
      "cell_type": "code",
      "metadata": {
        "colab": {
          "base_uri": "https://localhost:8080/",
          "height": 289
        },
        "id": "Qm7FKG880T4Z",
        "outputId": "dec0c6a4-395d-4d75-cfa2-79e3a5a93d77"
      },
      "source": [
        "to_drop = ['Edition Statement',\n",
        "           'Corporate Author',\n",
        "           'Corporate Contributors',\n",
        "           'Former owner',\n",
        "           'Engraver',\n",
        "           'Contributors',\n",
        "           'Issuance type',\n",
        "           'Shelfmarks']\n",
        "#Eliminer les colonnes dans la liste de to_drop du dataframe df\n",
        "df.drop(to_drop, inplace = True, axis = 1)\n",
        "#Afficherle résultat\n",
        "df.head()"
      ],
      "execution_count": 20,
      "outputs": [
        {
          "output_type": "execute_result",
          "data": {
            "text/html": [
              "<div>\n",
              "<style scoped>\n",
              "    .dataframe tbody tr th:only-of-type {\n",
              "        vertical-align: middle;\n",
              "    }\n",
              "\n",
              "    .dataframe tbody tr th {\n",
              "        vertical-align: top;\n",
              "    }\n",
              "\n",
              "    .dataframe thead th {\n",
              "        text-align: right;\n",
              "    }\n",
              "</style>\n",
              "<table border=\"1\" class=\"dataframe\">\n",
              "  <thead>\n",
              "    <tr style=\"text-align: right;\">\n",
              "      <th></th>\n",
              "      <th>Identifier</th>\n",
              "      <th>Place of Publication</th>\n",
              "      <th>Date of Publication</th>\n",
              "      <th>Publisher</th>\n",
              "      <th>Title</th>\n",
              "      <th>Author</th>\n",
              "      <th>Flickr URL</th>\n",
              "    </tr>\n",
              "  </thead>\n",
              "  <tbody>\n",
              "    <tr>\n",
              "      <th>0</th>\n",
              "      <td>206</td>\n",
              "      <td>London</td>\n",
              "      <td>1879 [1878]</td>\n",
              "      <td>S. Tinsley &amp; Co.</td>\n",
              "      <td>Walter Forbes. [A novel.] By A. A</td>\n",
              "      <td>A. A.</td>\n",
              "      <td>http://www.flickr.com/photos/britishlibrary/ta...</td>\n",
              "    </tr>\n",
              "    <tr>\n",
              "      <th>1</th>\n",
              "      <td>216</td>\n",
              "      <td>London; Virtue &amp; Yorston</td>\n",
              "      <td>1868</td>\n",
              "      <td>Virtue &amp; Co.</td>\n",
              "      <td>All for Greed. [A novel. The dedication signed...</td>\n",
              "      <td>A., A. A.</td>\n",
              "      <td>http://www.flickr.com/photos/britishlibrary/ta...</td>\n",
              "    </tr>\n",
              "    <tr>\n",
              "      <th>2</th>\n",
              "      <td>218</td>\n",
              "      <td>London</td>\n",
              "      <td>1869</td>\n",
              "      <td>Bradbury, Evans &amp; Co.</td>\n",
              "      <td>Love the Avenger. By the author of “All for Gr...</td>\n",
              "      <td>A., A. A.</td>\n",
              "      <td>http://www.flickr.com/photos/britishlibrary/ta...</td>\n",
              "    </tr>\n",
              "    <tr>\n",
              "      <th>3</th>\n",
              "      <td>472</td>\n",
              "      <td>London</td>\n",
              "      <td>1851</td>\n",
              "      <td>James Darling</td>\n",
              "      <td>Welsh Sketches, chiefly ecclesiastical, to the...</td>\n",
              "      <td>A., E. S.</td>\n",
              "      <td>http://www.flickr.com/photos/britishlibrary/ta...</td>\n",
              "    </tr>\n",
              "    <tr>\n",
              "      <th>4</th>\n",
              "      <td>480</td>\n",
              "      <td>London</td>\n",
              "      <td>1857</td>\n",
              "      <td>Wertheim &amp; Macintosh</td>\n",
              "      <td>[The World in which I live, and my place in it...</td>\n",
              "      <td>A., E. S.</td>\n",
              "      <td>http://www.flickr.com/photos/britishlibrary/ta...</td>\n",
              "    </tr>\n",
              "  </tbody>\n",
              "</table>\n",
              "</div>"
            ],
            "text/plain": [
              "   Identifier  ...                                         Flickr URL\n",
              "0         206  ...  http://www.flickr.com/photos/britishlibrary/ta...\n",
              "1         216  ...  http://www.flickr.com/photos/britishlibrary/ta...\n",
              "2         218  ...  http://www.flickr.com/photos/britishlibrary/ta...\n",
              "3         472  ...  http://www.flickr.com/photos/britishlibrary/ta...\n",
              "4         480  ...  http://www.flickr.com/photos/britishlibrary/ta...\n",
              "\n",
              "[5 rows x 7 columns]"
            ]
          },
          "metadata": {},
          "execution_count": 20
        }
      ]
    },
    {
      "cell_type": "markdown",
      "metadata": {
        "id": "C-KWCZ320zUa"
      },
      "source": [
        "### **5 Setting the index of the dataset**"
      ]
    },
    {
      "cell_type": "markdown",
      "metadata": {
        "id": "WNw9PB5U065s"
      },
      "source": [
        "Changer l'index pourqu'ille prenne la valeur de l'identifiant Identifier"
      ]
    },
    {
      "cell_type": "code",
      "metadata": {
        "colab": {
          "base_uri": "https://localhost:8080/",
          "height": 350
        },
        "id": "0-ZXPSk-0_CJ",
        "outputId": "f2cfd3da-3bad-4ae5-9104-bc6bf091dc35"
      },
      "source": [
        "###Changerl'index \n",
        "df.set_index('Identifier', inplace = True)\n",
        "\n",
        "###Afficher le résultat\n",
        "df.head()"
      ],
      "execution_count": 44,
      "outputs": [
        {
          "output_type": "error",
          "ename": "KeyError",
          "evalue": "ignored",
          "traceback": [
            "\u001b[0;31m---------------------------------------------------------------------------\u001b[0m",
            "\u001b[0;31mKeyError\u001b[0m                                  Traceback (most recent call last)",
            "\u001b[0;32m<ipython-input-44-a1a0d9a3b137>\u001b[0m in \u001b[0;36m<module>\u001b[0;34m()\u001b[0m\n\u001b[1;32m      1\u001b[0m \u001b[0;31m###Changerl'index\u001b[0m\u001b[0;34m\u001b[0m\u001b[0;34m\u001b[0m\u001b[0;34m\u001b[0m\u001b[0m\n\u001b[0;32m----> 2\u001b[0;31m \u001b[0mdf\u001b[0m\u001b[0;34m.\u001b[0m\u001b[0mset_index\u001b[0m\u001b[0;34m(\u001b[0m\u001b[0;34m'Identifier'\u001b[0m\u001b[0;34m,\u001b[0m \u001b[0minplace\u001b[0m \u001b[0;34m=\u001b[0m \u001b[0;32mTrue\u001b[0m\u001b[0;34m)\u001b[0m\u001b[0;34m\u001b[0m\u001b[0;34m\u001b[0m\u001b[0m\n\u001b[0m\u001b[1;32m      3\u001b[0m \u001b[0;34m\u001b[0m\u001b[0m\n\u001b[1;32m      4\u001b[0m \u001b[0;31m###Afficher le résultat\u001b[0m\u001b[0;34m\u001b[0m\u001b[0;34m\u001b[0m\u001b[0;34m\u001b[0m\u001b[0m\n\u001b[1;32m      5\u001b[0m \u001b[0mdf\u001b[0m\u001b[0;34m.\u001b[0m\u001b[0mhead\u001b[0m\u001b[0;34m(\u001b[0m\u001b[0;34m)\u001b[0m\u001b[0;34m\u001b[0m\u001b[0;34m\u001b[0m\u001b[0m\n",
            "\u001b[0;32m/usr/local/lib/python3.7/dist-packages/pandas/core/frame.py\u001b[0m in \u001b[0;36mset_index\u001b[0;34m(self, keys, drop, append, inplace, verify_integrity)\u001b[0m\n\u001b[1;32m   4553\u001b[0m \u001b[0;34m\u001b[0m\u001b[0m\n\u001b[1;32m   4554\u001b[0m         \u001b[0;32mif\u001b[0m \u001b[0mmissing\u001b[0m\u001b[0;34m:\u001b[0m\u001b[0;34m\u001b[0m\u001b[0;34m\u001b[0m\u001b[0m\n\u001b[0;32m-> 4555\u001b[0;31m             \u001b[0;32mraise\u001b[0m \u001b[0mKeyError\u001b[0m\u001b[0;34m(\u001b[0m\u001b[0;34mf\"None of {missing} are in the columns\"\u001b[0m\u001b[0;34m)\u001b[0m\u001b[0;34m\u001b[0m\u001b[0;34m\u001b[0m\u001b[0m\n\u001b[0m\u001b[1;32m   4556\u001b[0m \u001b[0;34m\u001b[0m\u001b[0m\n\u001b[1;32m   4557\u001b[0m         \u001b[0;32mif\u001b[0m \u001b[0minplace\u001b[0m\u001b[0;34m:\u001b[0m\u001b[0;34m\u001b[0m\u001b[0;34m\u001b[0m\u001b[0m\n",
            "\u001b[0;31mKeyError\u001b[0m: \"None of ['Identifier'] are in the columns\""
          ]
        }
      ]
    },
    {
      "cell_type": "markdown",
      "metadata": {
        "id": "8PzTsqjz1M0i"
      },
      "source": [
        "### **6 Donner un appérçu sur la colonne Date of Publication**"
      ]
    },
    {
      "cell_type": "code",
      "metadata": {
        "colab": {
          "base_uri": "https://localhost:8080/"
        },
        "id": "2PVLFG1VC_3_",
        "outputId": "1e0dc333-98aa-47fa-eb4f-9cd88d5415b8"
      },
      "source": [
        "### Afficher  les 25 premières valeurs de Date of Publication\n",
        "df['Date of Publication'].head(25)"
      ],
      "execution_count": 35,
      "outputs": [
        {
          "output_type": "execute_result",
          "data": {
            "text/plain": [
              "Identifier\n",
              "206     1879 \n",
              "216      1868\n",
              "218      1869\n",
              "472      1851\n",
              "480      1857\n",
              "481      1875\n",
              "519      1872\n",
              "667       NaN\n",
              "874      1676\n",
              "1143     1679\n",
              "1280     1802\n",
              "1808     1859\n",
              "1905     1888\n",
              "1929     1839\n",
              "2836     1897\n",
              "2854     1865\n",
              "2956     1860\n",
              "2957     1873\n",
              "3017     1866\n",
              "3131     1899\n",
              "4598     1814\n",
              "4884     1820\n",
              "4976     1800\n",
              "5382     1847\n",
              "5385      NaN\n",
              "Name: Date of Publication, dtype: object"
            ]
          },
          "metadata": {},
          "execution_count": 35
        }
      ]
    },
    {
      "cell_type": "markdown",
      "metadata": {
        "id": "9a9xHzc61dft"
      },
      "source": [
        "### **7 Cleaning columns using the .apply function**"
      ]
    },
    {
      "cell_type": "markdown",
      "metadata": {
        "id": "odlc40vQ1kl2"
      },
      "source": [
        "Ecrire une fonction qui permet de nettoyer la colonne des dates"
      ]
    },
    {
      "cell_type": "code",
      "metadata": {
        "id": "1GzA7O6yDRxK"
      },
      "source": [
        "unwanted_characters = ['[', ',', '-']\n",
        "\n",
        "def clean_dates(item):\n",
        "    dop= str(item.loc['Date of Publication'])\n",
        "    \n",
        "    if dop == 'nan' or dop[0] == '[':\n",
        "        return np.NaN\n",
        "    \n",
        "    for character in unwanted_characters:\n",
        "        if character in dop:\n",
        "            character_index = dop.find(character)\n",
        "            dop = dop[:character_index]\n",
        "    \n",
        "    return dop\n",
        "\n",
        "df['Date of Publication'] = df.apply(clean_dates, axis = 1)"
      ],
      "execution_count": 36,
      "outputs": []
    },
    {
      "cell_type": "code",
      "metadata": {
        "colab": {
          "base_uri": "https://localhost:8080/",
          "height": 320
        },
        "id": "tnim1Rko2YET",
        "outputId": "150d06cc-2cef-4267-fb6a-08fc69881d44"
      },
      "source": [
        "### Afficher  les 5 premières valeurs \n",
        "df.head()"
      ],
      "execution_count": 37,
      "outputs": [
        {
          "output_type": "execute_result",
          "data": {
            "text/html": [
              "<div>\n",
              "<style scoped>\n",
              "    .dataframe tbody tr th:only-of-type {\n",
              "        vertical-align: middle;\n",
              "    }\n",
              "\n",
              "    .dataframe tbody tr th {\n",
              "        vertical-align: top;\n",
              "    }\n",
              "\n",
              "    .dataframe thead th {\n",
              "        text-align: right;\n",
              "    }\n",
              "</style>\n",
              "<table border=\"1\" class=\"dataframe\">\n",
              "  <thead>\n",
              "    <tr style=\"text-align: right;\">\n",
              "      <th></th>\n",
              "      <th>Place of Publication</th>\n",
              "      <th>Date of Publication</th>\n",
              "      <th>Publisher</th>\n",
              "      <th>Title</th>\n",
              "      <th>Author</th>\n",
              "      <th>Flickr URL</th>\n",
              "    </tr>\n",
              "    <tr>\n",
              "      <th>Identifier</th>\n",
              "      <th></th>\n",
              "      <th></th>\n",
              "      <th></th>\n",
              "      <th></th>\n",
              "      <th></th>\n",
              "      <th></th>\n",
              "    </tr>\n",
              "  </thead>\n",
              "  <tbody>\n",
              "    <tr>\n",
              "      <th>206</th>\n",
              "      <td>London</td>\n",
              "      <td>1879</td>\n",
              "      <td>S. Tinsley &amp; Co.</td>\n",
              "      <td>Walter Forbes</td>\n",
              "      <td>AA</td>\n",
              "      <td>http://www.flickr.com/photos/britishlibrary/ta...</td>\n",
              "    </tr>\n",
              "    <tr>\n",
              "      <th>216</th>\n",
              "      <td>London; Virtue &amp; Yorston</td>\n",
              "      <td>1868</td>\n",
              "      <td>Virtue &amp; Co.</td>\n",
              "      <td>All For Greed</td>\n",
              "      <td>A. A A.</td>\n",
              "      <td>http://www.flickr.com/photos/britishlibrary/ta...</td>\n",
              "    </tr>\n",
              "    <tr>\n",
              "      <th>218</th>\n",
              "      <td>London</td>\n",
              "      <td>1869</td>\n",
              "      <td>Bradbury, Evans &amp; Co.</td>\n",
              "      <td>Love The Avenger</td>\n",
              "      <td>A. A A.</td>\n",
              "      <td>http://www.flickr.com/photos/britishlibrary/ta...</td>\n",
              "    </tr>\n",
              "    <tr>\n",
              "      <th>472</th>\n",
              "      <td>London</td>\n",
              "      <td>1851</td>\n",
              "      <td>James Darling</td>\n",
              "      <td>Welsh Sketches, Chiefly Ecclesiastical, To The...</td>\n",
              "      <td>E. S A.</td>\n",
              "      <td>http://www.flickr.com/photos/britishlibrary/ta...</td>\n",
              "    </tr>\n",
              "    <tr>\n",
              "      <th>480</th>\n",
              "      <td>London</td>\n",
              "      <td>1857</td>\n",
              "      <td>Wertheim &amp; Macintosh</td>\n",
              "      <td>The World In Which I Live, And My Place In It</td>\n",
              "      <td>E. S A.</td>\n",
              "      <td>http://www.flickr.com/photos/britishlibrary/ta...</td>\n",
              "    </tr>\n",
              "  </tbody>\n",
              "</table>\n",
              "</div>"
            ],
            "text/plain": [
              "                Place of Publication  ...                                         Flickr URL\n",
              "Identifier                            ...                                                   \n",
              "206                           London  ...  http://www.flickr.com/photos/britishlibrary/ta...\n",
              "216         London; Virtue & Yorston  ...  http://www.flickr.com/photos/britishlibrary/ta...\n",
              "218                           London  ...  http://www.flickr.com/photos/britishlibrary/ta...\n",
              "472                           London  ...  http://www.flickr.com/photos/britishlibrary/ta...\n",
              "480                           London  ...  http://www.flickr.com/photos/britishlibrary/ta...\n",
              "\n",
              "[5 rows x 6 columns]"
            ]
          },
          "metadata": {},
          "execution_count": 37
        }
      ]
    },
    {
      "cell_type": "code",
      "metadata": {
        "colab": {
          "base_uri": "https://localhost:8080/",
          "height": 526
        },
        "id": "vqLSR5AvDUtb",
        "outputId": "91442234-20d7-45b7-bdfb-833a09204b5d"
      },
      "source": [
        "#Voici une autre méthode\n",
        "#exécuter pour voir le résultat\n",
        "unwanted_characters = ['[', ',', '-']\n",
        "\n",
        "def clean_dates(dop):\n",
        "    dop = str(dop)\n",
        "    if dop.startswith('[') or dop == 'nan':\n",
        "        return 'NaN'\n",
        "    for character in unwanted_characters:\n",
        "        if character in dop:\n",
        "            character_index = dop.find(character)\n",
        "            dop = dop[:character_index]\n",
        "    return dop\n",
        "\n",
        "df['Date of Publication'] = df['Date of Publication'].apply(clean_dates)\n",
        "df.head(10)"
      ],
      "execution_count": 38,
      "outputs": [
        {
          "output_type": "execute_result",
          "data": {
            "text/html": [
              "<div>\n",
              "<style scoped>\n",
              "    .dataframe tbody tr th:only-of-type {\n",
              "        vertical-align: middle;\n",
              "    }\n",
              "\n",
              "    .dataframe tbody tr th {\n",
              "        vertical-align: top;\n",
              "    }\n",
              "\n",
              "    .dataframe thead th {\n",
              "        text-align: right;\n",
              "    }\n",
              "</style>\n",
              "<table border=\"1\" class=\"dataframe\">\n",
              "  <thead>\n",
              "    <tr style=\"text-align: right;\">\n",
              "      <th></th>\n",
              "      <th>Place of Publication</th>\n",
              "      <th>Date of Publication</th>\n",
              "      <th>Publisher</th>\n",
              "      <th>Title</th>\n",
              "      <th>Author</th>\n",
              "      <th>Flickr URL</th>\n",
              "    </tr>\n",
              "    <tr>\n",
              "      <th>Identifier</th>\n",
              "      <th></th>\n",
              "      <th></th>\n",
              "      <th></th>\n",
              "      <th></th>\n",
              "      <th></th>\n",
              "      <th></th>\n",
              "    </tr>\n",
              "  </thead>\n",
              "  <tbody>\n",
              "    <tr>\n",
              "      <th>206</th>\n",
              "      <td>London</td>\n",
              "      <td>1879</td>\n",
              "      <td>S. Tinsley &amp; Co.</td>\n",
              "      <td>Walter Forbes</td>\n",
              "      <td>AA</td>\n",
              "      <td>http://www.flickr.com/photos/britishlibrary/ta...</td>\n",
              "    </tr>\n",
              "    <tr>\n",
              "      <th>216</th>\n",
              "      <td>London; Virtue &amp; Yorston</td>\n",
              "      <td>1868</td>\n",
              "      <td>Virtue &amp; Co.</td>\n",
              "      <td>All For Greed</td>\n",
              "      <td>A. A A.</td>\n",
              "      <td>http://www.flickr.com/photos/britishlibrary/ta...</td>\n",
              "    </tr>\n",
              "    <tr>\n",
              "      <th>218</th>\n",
              "      <td>London</td>\n",
              "      <td>1869</td>\n",
              "      <td>Bradbury, Evans &amp; Co.</td>\n",
              "      <td>Love The Avenger</td>\n",
              "      <td>A. A A.</td>\n",
              "      <td>http://www.flickr.com/photos/britishlibrary/ta...</td>\n",
              "    </tr>\n",
              "    <tr>\n",
              "      <th>472</th>\n",
              "      <td>London</td>\n",
              "      <td>1851</td>\n",
              "      <td>James Darling</td>\n",
              "      <td>Welsh Sketches, Chiefly Ecclesiastical, To The...</td>\n",
              "      <td>E. S A.</td>\n",
              "      <td>http://www.flickr.com/photos/britishlibrary/ta...</td>\n",
              "    </tr>\n",
              "    <tr>\n",
              "      <th>480</th>\n",
              "      <td>London</td>\n",
              "      <td>1857</td>\n",
              "      <td>Wertheim &amp; Macintosh</td>\n",
              "      <td>The World In Which I Live, And My Place In It</td>\n",
              "      <td>E. S A.</td>\n",
              "      <td>http://www.flickr.com/photos/britishlibrary/ta...</td>\n",
              "    </tr>\n",
              "    <tr>\n",
              "      <th>481</th>\n",
              "      <td>London</td>\n",
              "      <td>1875</td>\n",
              "      <td>William Macintosh</td>\n",
              "      <td>The World In Which I Live, And My Place In It</td>\n",
              "      <td>E. S A.</td>\n",
              "      <td>http://www.flickr.com/photos/britishlibrary/ta...</td>\n",
              "    </tr>\n",
              "    <tr>\n",
              "      <th>519</th>\n",
              "      <td>London</td>\n",
              "      <td>1872</td>\n",
              "      <td>The Author</td>\n",
              "      <td>Lagonells</td>\n",
              "      <td>F. E A.</td>\n",
              "      <td>http://www.flickr.com/photos/britishlibrary/ta...</td>\n",
              "    </tr>\n",
              "    <tr>\n",
              "      <th>667</th>\n",
              "      <td>pp. 40. G. Bryan &amp; Co: Oxford, 1898</td>\n",
              "      <td>NaN</td>\n",
              "      <td>NaN</td>\n",
              "      <td>The Coming Of Spring, And Other Poems</td>\n",
              "      <td>J.|A A.</td>\n",
              "      <td>http://www.flickr.com/photos/britishlibrary/ta...</td>\n",
              "    </tr>\n",
              "    <tr>\n",
              "      <th>874</th>\n",
              "      <td>London]</td>\n",
              "      <td>1676</td>\n",
              "      <td>NaN</td>\n",
              "      <td>A Warning To The Inhabitants Of England, And L...</td>\n",
              "      <td>Remaʿ</td>\n",
              "      <td>http://www.flickr.com/photos/britishlibrary/ta...</td>\n",
              "    </tr>\n",
              "    <tr>\n",
              "      <th>1143</th>\n",
              "      <td>London</td>\n",
              "      <td>1679</td>\n",
              "      <td>NaN</td>\n",
              "      <td>A Satyr Against Vertue. (a Poem: Supposed To B...</td>\n",
              "      <td>T A.</td>\n",
              "      <td>http://www.flickr.com/photos/britishlibrary/ta...</td>\n",
              "    </tr>\n",
              "  </tbody>\n",
              "</table>\n",
              "</div>"
            ],
            "text/plain": [
              "                           Place of Publication  ...                                         Flickr URL\n",
              "Identifier                                       ...                                                   \n",
              "206                                      London  ...  http://www.flickr.com/photos/britishlibrary/ta...\n",
              "216                    London; Virtue & Yorston  ...  http://www.flickr.com/photos/britishlibrary/ta...\n",
              "218                                      London  ...  http://www.flickr.com/photos/britishlibrary/ta...\n",
              "472                                      London  ...  http://www.flickr.com/photos/britishlibrary/ta...\n",
              "480                                      London  ...  http://www.flickr.com/photos/britishlibrary/ta...\n",
              "481                                      London  ...  http://www.flickr.com/photos/britishlibrary/ta...\n",
              "519                                      London  ...  http://www.flickr.com/photos/britishlibrary/ta...\n",
              "667         pp. 40. G. Bryan & Co: Oxford, 1898  ...  http://www.flickr.com/photos/britishlibrary/ta...\n",
              "874                                     London]  ...  http://www.flickr.com/photos/britishlibrary/ta...\n",
              "1143                                     London  ...  http://www.flickr.com/photos/britishlibrary/ta...\n",
              "\n",
              "[10 rows x 6 columns]"
            ]
          },
          "metadata": {},
          "execution_count": 38
        }
      ]
    },
    {
      "cell_type": "markdown",
      "metadata": {
        "id": "CwaD1VNd2z_5"
      },
      "source": [
        "### **8 Observer la collone Author**"
      ]
    },
    {
      "cell_type": "markdown",
      "metadata": {
        "id": "FJZtkG5F26EC"
      },
      "source": [
        "Completer la fonction clean_author_namesqui permet de corriger les valeurs de cet colonne"
      ]
    },
    {
      "cell_type": "code",
      "metadata": {
        "id": "XtwSWE943WSS"
      },
      "source": [
        "from functools import reduce"
      ],
      "execution_count": 45,
      "outputs": []
    },
    {
      "cell_type": "code",
      "metadata": {
        "id": "zKfr_dGS3K5m"
      },
      "source": [
        "def clean_author_names(author):\n",
        "    \n",
        "    author = str(author)\n",
        "    \n",
        "    if author == 'nan':\n",
        "        return 'NaN'\n",
        "    \n",
        "    author = author.split(',')\n",
        "\n",
        "    if len(author) == 1:\n",
        "        name = filter(lambda x: x.isalpha(), author[0])\n",
        "        return reduce(lambda x, y: x + y, name)\n",
        "    \n",
        "    last_name, first_name = author[0], author[1]\n",
        "\n",
        "    first_name = first_name[:first_name.find('-')] if '-' in first_name else first_name\n",
        "    \n",
        "    if first_name.endswith(('.', '.|')):\n",
        "        parts = first_name.split('.')\n",
        "        \n",
        "        if len(parts) > 1:\n",
        "            first_occurence = first_name.find('.')\n",
        "            final_occurence = first_name.find('.', first_occurence + 1)\n",
        "            first_name = first_name[:final_occurence]\n",
        "        else:\n",
        "            first_name = first_name[:first_name.find('.')]\n",
        "    \n",
        "    last_name = last_name.capitalize()\n",
        "    \n",
        "    return f'{first_name} {last_name}'\n",
        "\n",
        "\n",
        "df['Author'] = df['Author'].apply(clean_author_names)"
      ],
      "execution_count": 46,
      "outputs": []
    },
    {
      "cell_type": "markdown",
      "metadata": {
        "id": "A_8tiEJb3gkH"
      },
      "source": [
        "### **RESULTAT ATTENDU**"
      ]
    },
    {
      "cell_type": "code",
      "metadata": {
        "colab": {
          "base_uri": "https://localhost:8080/",
          "height": 320
        },
        "id": "yfABUUe63lFW",
        "outputId": "cfe44cd7-8d4e-4b6d-d858-898eff1ed665"
      },
      "source": [
        "df.head()"
      ],
      "execution_count": 41,
      "outputs": [
        {
          "output_type": "execute_result",
          "data": {
            "text/html": [
              "<div>\n",
              "<style scoped>\n",
              "    .dataframe tbody tr th:only-of-type {\n",
              "        vertical-align: middle;\n",
              "    }\n",
              "\n",
              "    .dataframe tbody tr th {\n",
              "        vertical-align: top;\n",
              "    }\n",
              "\n",
              "    .dataframe thead th {\n",
              "        text-align: right;\n",
              "    }\n",
              "</style>\n",
              "<table border=\"1\" class=\"dataframe\">\n",
              "  <thead>\n",
              "    <tr style=\"text-align: right;\">\n",
              "      <th></th>\n",
              "      <th>Place of Publication</th>\n",
              "      <th>Date of Publication</th>\n",
              "      <th>Publisher</th>\n",
              "      <th>Title</th>\n",
              "      <th>Author</th>\n",
              "      <th>Flickr URL</th>\n",
              "    </tr>\n",
              "    <tr>\n",
              "      <th>Identifier</th>\n",
              "      <th></th>\n",
              "      <th></th>\n",
              "      <th></th>\n",
              "      <th></th>\n",
              "      <th></th>\n",
              "      <th></th>\n",
              "    </tr>\n",
              "  </thead>\n",
              "  <tbody>\n",
              "    <tr>\n",
              "      <th>206</th>\n",
              "      <td>London</td>\n",
              "      <td>1879</td>\n",
              "      <td>S. Tinsley &amp; Co.</td>\n",
              "      <td>Walter Forbes</td>\n",
              "      <td>AA</td>\n",
              "      <td>http://www.flickr.com/photos/britishlibrary/ta...</td>\n",
              "    </tr>\n",
              "    <tr>\n",
              "      <th>216</th>\n",
              "      <td>London; Virtue &amp; Yorston</td>\n",
              "      <td>1868</td>\n",
              "      <td>Virtue &amp; Co.</td>\n",
              "      <td>All For Greed</td>\n",
              "      <td>AAA</td>\n",
              "      <td>http://www.flickr.com/photos/britishlibrary/ta...</td>\n",
              "    </tr>\n",
              "    <tr>\n",
              "      <th>218</th>\n",
              "      <td>London</td>\n",
              "      <td>1869</td>\n",
              "      <td>Bradbury, Evans &amp; Co.</td>\n",
              "      <td>Love The Avenger</td>\n",
              "      <td>AAA</td>\n",
              "      <td>http://www.flickr.com/photos/britishlibrary/ta...</td>\n",
              "    </tr>\n",
              "    <tr>\n",
              "      <th>472</th>\n",
              "      <td>London</td>\n",
              "      <td>1851</td>\n",
              "      <td>James Darling</td>\n",
              "      <td>Welsh Sketches, Chiefly Ecclesiastical, To The...</td>\n",
              "      <td>ESA</td>\n",
              "      <td>http://www.flickr.com/photos/britishlibrary/ta...</td>\n",
              "    </tr>\n",
              "    <tr>\n",
              "      <th>480</th>\n",
              "      <td>London</td>\n",
              "      <td>1857</td>\n",
              "      <td>Wertheim &amp; Macintosh</td>\n",
              "      <td>The World In Which I Live, And My Place In It</td>\n",
              "      <td>ESA</td>\n",
              "      <td>http://www.flickr.com/photos/britishlibrary/ta...</td>\n",
              "    </tr>\n",
              "  </tbody>\n",
              "</table>\n",
              "</div>"
            ],
            "text/plain": [
              "                Place of Publication  ...                                         Flickr URL\n",
              "Identifier                            ...                                                   \n",
              "206                           London  ...  http://www.flickr.com/photos/britishlibrary/ta...\n",
              "216         London; Virtue & Yorston  ...  http://www.flickr.com/photos/britishlibrary/ta...\n",
              "218                           London  ...  http://www.flickr.com/photos/britishlibrary/ta...\n",
              "472                           London  ...  http://www.flickr.com/photos/britishlibrary/ta...\n",
              "480                           London  ...  http://www.flickr.com/photos/britishlibrary/ta...\n",
              "\n",
              "[5 rows x 6 columns]"
            ]
          },
          "metadata": {},
          "execution_count": 41
        }
      ]
    },
    {
      "cell_type": "markdown",
      "metadata": {
        "id": "fN8ZrGfd30l9"
      },
      "source": [
        "### **9 Completer la fonction clean_titlequi permet de corriger les valeurs de la colone Title**"
      ]
    },
    {
      "cell_type": "code",
      "metadata": {
        "id": "sQ9WoqVK3_aF",
        "colab": {
          "base_uri": "https://localhost:8080/",
          "height": 374
        },
        "outputId": "9ff47804-b1c5-4dec-8248-c2d60b960eb5"
      },
      "source": [
        "## complétrer la fonction suivante ( à la place de pass)\n",
        "def clean_title(title):\n",
        "    \n",
        "    if title == 'nan':\n",
        "        return 'NaN'\n",
        "    \n",
        "    if title[0] == '[':\n",
        "        title = title[1: title.find(']')]\n",
        "        \n",
        "    if 'by' in title:\n",
        "        title = title[:title.find('by')]\n",
        "    elif 'By' in title:\n",
        "        title = title[:title.find('By')]\n",
        "        \n",
        "    if '[' in title:\n",
        "        title = title[:title.find('[')]\n",
        "\n",
        "    title = title[:-2]\n",
        "        \n",
        "    title = list(map(str.capitalize, title.split()))\n",
        "    return ' '.join(title)\n",
        "    \n",
        "df['Title'] = df['Title'].apply(clean_title)"
      ],
      "execution_count": 42,
      "outputs": [
        {
          "output_type": "error",
          "ename": "IndexError",
          "evalue": "ignored",
          "traceback": [
            "\u001b[0;31m---------------------------------------------------------------------------\u001b[0m",
            "\u001b[0;31mIndexError\u001b[0m                                Traceback (most recent call last)",
            "\u001b[0;32m<ipython-input-42-2d5b384afa2e>\u001b[0m in \u001b[0;36m<module>\u001b[0;34m()\u001b[0m\n\u001b[1;32m     21\u001b[0m     \u001b[0;32mreturn\u001b[0m \u001b[0;34m' '\u001b[0m\u001b[0;34m.\u001b[0m\u001b[0mjoin\u001b[0m\u001b[0;34m(\u001b[0m\u001b[0mtitle\u001b[0m\u001b[0;34m)\u001b[0m\u001b[0;34m\u001b[0m\u001b[0;34m\u001b[0m\u001b[0m\n\u001b[1;32m     22\u001b[0m \u001b[0;34m\u001b[0m\u001b[0m\n\u001b[0;32m---> 23\u001b[0;31m \u001b[0mdf\u001b[0m\u001b[0;34m[\u001b[0m\u001b[0;34m'Title'\u001b[0m\u001b[0;34m]\u001b[0m \u001b[0;34m=\u001b[0m \u001b[0mdf\u001b[0m\u001b[0;34m[\u001b[0m\u001b[0;34m'Title'\u001b[0m\u001b[0;34m]\u001b[0m\u001b[0;34m.\u001b[0m\u001b[0mapply\u001b[0m\u001b[0;34m(\u001b[0m\u001b[0mclean_title\u001b[0m\u001b[0;34m)\u001b[0m\u001b[0;34m\u001b[0m\u001b[0;34m\u001b[0m\u001b[0m\n\u001b[0m",
            "\u001b[0;32m/usr/local/lib/python3.7/dist-packages/pandas/core/series.py\u001b[0m in \u001b[0;36mapply\u001b[0;34m(self, func, convert_dtype, args, **kwds)\u001b[0m\n\u001b[1;32m   4211\u001b[0m             \u001b[0;32melse\u001b[0m\u001b[0;34m:\u001b[0m\u001b[0;34m\u001b[0m\u001b[0;34m\u001b[0m\u001b[0m\n\u001b[1;32m   4212\u001b[0m                 \u001b[0mvalues\u001b[0m \u001b[0;34m=\u001b[0m \u001b[0mself\u001b[0m\u001b[0;34m.\u001b[0m\u001b[0mastype\u001b[0m\u001b[0;34m(\u001b[0m\u001b[0mobject\u001b[0m\u001b[0;34m)\u001b[0m\u001b[0;34m.\u001b[0m\u001b[0m_values\u001b[0m\u001b[0;34m\u001b[0m\u001b[0;34m\u001b[0m\u001b[0m\n\u001b[0;32m-> 4213\u001b[0;31m                 \u001b[0mmapped\u001b[0m \u001b[0;34m=\u001b[0m \u001b[0mlib\u001b[0m\u001b[0;34m.\u001b[0m\u001b[0mmap_infer\u001b[0m\u001b[0;34m(\u001b[0m\u001b[0mvalues\u001b[0m\u001b[0;34m,\u001b[0m \u001b[0mf\u001b[0m\u001b[0;34m,\u001b[0m \u001b[0mconvert\u001b[0m\u001b[0;34m=\u001b[0m\u001b[0mconvert_dtype\u001b[0m\u001b[0;34m)\u001b[0m\u001b[0;34m\u001b[0m\u001b[0;34m\u001b[0m\u001b[0m\n\u001b[0m\u001b[1;32m   4214\u001b[0m \u001b[0;34m\u001b[0m\u001b[0m\n\u001b[1;32m   4215\u001b[0m         \u001b[0;32mif\u001b[0m \u001b[0mlen\u001b[0m\u001b[0;34m(\u001b[0m\u001b[0mmapped\u001b[0m\u001b[0;34m)\u001b[0m \u001b[0;32mand\u001b[0m \u001b[0misinstance\u001b[0m\u001b[0;34m(\u001b[0m\u001b[0mmapped\u001b[0m\u001b[0;34m[\u001b[0m\u001b[0;36m0\u001b[0m\u001b[0;34m]\u001b[0m\u001b[0;34m,\u001b[0m \u001b[0mSeries\u001b[0m\u001b[0;34m)\u001b[0m\u001b[0;34m:\u001b[0m\u001b[0;34m\u001b[0m\u001b[0;34m\u001b[0m\u001b[0m\n",
            "\u001b[0;32mpandas/_libs/lib.pyx\u001b[0m in \u001b[0;36mpandas._libs.lib.map_infer\u001b[0;34m()\u001b[0m\n",
            "\u001b[0;32m<ipython-input-42-2d5b384afa2e>\u001b[0m in \u001b[0;36mclean_title\u001b[0;34m(title)\u001b[0m\n\u001b[1;32m      5\u001b[0m         \u001b[0;32mreturn\u001b[0m \u001b[0;34m'NaN'\u001b[0m\u001b[0;34m\u001b[0m\u001b[0;34m\u001b[0m\u001b[0m\n\u001b[1;32m      6\u001b[0m \u001b[0;34m\u001b[0m\u001b[0m\n\u001b[0;32m----> 7\u001b[0;31m     \u001b[0;32mif\u001b[0m \u001b[0mtitle\u001b[0m\u001b[0;34m[\u001b[0m\u001b[0;36m0\u001b[0m\u001b[0;34m]\u001b[0m \u001b[0;34m==\u001b[0m \u001b[0;34m'['\u001b[0m\u001b[0;34m:\u001b[0m\u001b[0;34m\u001b[0m\u001b[0;34m\u001b[0m\u001b[0m\n\u001b[0m\u001b[1;32m      8\u001b[0m         \u001b[0mtitle\u001b[0m \u001b[0;34m=\u001b[0m \u001b[0mtitle\u001b[0m\u001b[0;34m[\u001b[0m\u001b[0;36m1\u001b[0m\u001b[0;34m:\u001b[0m \u001b[0mtitle\u001b[0m\u001b[0;34m.\u001b[0m\u001b[0mfind\u001b[0m\u001b[0;34m(\u001b[0m\u001b[0;34m']'\u001b[0m\u001b[0;34m)\u001b[0m\u001b[0;34m]\u001b[0m\u001b[0;34m\u001b[0m\u001b[0;34m\u001b[0m\u001b[0m\n\u001b[1;32m      9\u001b[0m \u001b[0;34m\u001b[0m\u001b[0m\n",
            "\u001b[0;31mIndexError\u001b[0m: string index out of range"
          ]
        }
      ]
    },
    {
      "cell_type": "markdown",
      "metadata": {
        "id": "a5vq5K754XQM"
      },
      "source": [
        "### **RESULTAT ATTENDU**"
      ]
    },
    {
      "cell_type": "code",
      "metadata": {
        "colab": {
          "base_uri": "https://localhost:8080/",
          "height": 0
        },
        "id": "Bpby0R1E4cYr",
        "outputId": "eb7f6536-7168-4720-9b1d-d3da51ea40de"
      },
      "source": [
        "df.head()"
      ],
      "execution_count": 30,
      "outputs": [
        {
          "output_type": "execute_result",
          "data": {
            "text/html": [
              "<div>\n",
              "<style scoped>\n",
              "    .dataframe tbody tr th:only-of-type {\n",
              "        vertical-align: middle;\n",
              "    }\n",
              "\n",
              "    .dataframe tbody tr th {\n",
              "        vertical-align: top;\n",
              "    }\n",
              "\n",
              "    .dataframe thead th {\n",
              "        text-align: right;\n",
              "    }\n",
              "</style>\n",
              "<table border=\"1\" class=\"dataframe\">\n",
              "  <thead>\n",
              "    <tr style=\"text-align: right;\">\n",
              "      <th></th>\n",
              "      <th>Place of Publication</th>\n",
              "      <th>Date of Publication</th>\n",
              "      <th>Publisher</th>\n",
              "      <th>Title</th>\n",
              "      <th>Author</th>\n",
              "      <th>Flickr URL</th>\n",
              "    </tr>\n",
              "    <tr>\n",
              "      <th>Identifier</th>\n",
              "      <th></th>\n",
              "      <th></th>\n",
              "      <th></th>\n",
              "      <th></th>\n",
              "      <th></th>\n",
              "      <th></th>\n",
              "    </tr>\n",
              "  </thead>\n",
              "  <tbody>\n",
              "    <tr>\n",
              "      <th>206</th>\n",
              "      <td>London</td>\n",
              "      <td>1879</td>\n",
              "      <td>S. Tinsley &amp; Co.</td>\n",
              "      <td>Walter Forbes</td>\n",
              "      <td>AA</td>\n",
              "      <td>http://www.flickr.com/photos/britishlibrary/ta...</td>\n",
              "    </tr>\n",
              "    <tr>\n",
              "      <th>216</th>\n",
              "      <td>London; Virtue &amp; Yorston</td>\n",
              "      <td>1868</td>\n",
              "      <td>Virtue &amp; Co.</td>\n",
              "      <td>All For Greed</td>\n",
              "      <td>A. A A.</td>\n",
              "      <td>http://www.flickr.com/photos/britishlibrary/ta...</td>\n",
              "    </tr>\n",
              "    <tr>\n",
              "      <th>218</th>\n",
              "      <td>London</td>\n",
              "      <td>1869</td>\n",
              "      <td>Bradbury, Evans &amp; Co.</td>\n",
              "      <td>Love The Avenger</td>\n",
              "      <td>A. A A.</td>\n",
              "      <td>http://www.flickr.com/photos/britishlibrary/ta...</td>\n",
              "    </tr>\n",
              "    <tr>\n",
              "      <th>472</th>\n",
              "      <td>London</td>\n",
              "      <td>1851</td>\n",
              "      <td>James Darling</td>\n",
              "      <td>Welsh Sketches, Chiefly Ecclesiastical, To The...</td>\n",
              "      <td>E. S A.</td>\n",
              "      <td>http://www.flickr.com/photos/britishlibrary/ta...</td>\n",
              "    </tr>\n",
              "    <tr>\n",
              "      <th>480</th>\n",
              "      <td>London</td>\n",
              "      <td>1857</td>\n",
              "      <td>Wertheim &amp; Macintosh</td>\n",
              "      <td>The World In Which I Live, And My Place In It</td>\n",
              "      <td>E. S A.</td>\n",
              "      <td>http://www.flickr.com/photos/britishlibrary/ta...</td>\n",
              "    </tr>\n",
              "  </tbody>\n",
              "</table>\n",
              "</div>"
            ],
            "text/plain": [
              "                Place of Publication  ...                                         Flickr URL\n",
              "Identifier                            ...                                                   \n",
              "206                           London  ...  http://www.flickr.com/photos/britishlibrary/ta...\n",
              "216         London; Virtue & Yorston  ...  http://www.flickr.com/photos/britishlibrary/ta...\n",
              "218                           London  ...  http://www.flickr.com/photos/britishlibrary/ta...\n",
              "472                           London  ...  http://www.flickr.com/photos/britishlibrary/ta...\n",
              "480                           London  ...  http://www.flickr.com/photos/britishlibrary/ta...\n",
              "\n",
              "[5 rows x 6 columns]"
            ]
          },
          "metadata": {},
          "execution_count": 30
        }
      ]
    },
    {
      "cell_type": "markdown",
      "metadata": {
        "id": "FNiHllmxSdPg"
      },
      "source": [
        "# PART 2 : \n",
        "### **1 Cleaning entire dataset**\n"
      ]
    },
    {
      "cell_type": "code",
      "metadata": {
        "id": "6yiuLc2DG5x1"
      },
      "source": [
        "from google.colab import drive"
      ],
      "execution_count": 47,
      "outputs": []
    },
    {
      "cell_type": "code",
      "metadata": {
        "colab": {
          "base_uri": "https://localhost:8080/"
        },
        "id": "W0UD9xhjHWuL",
        "outputId": "28e1dc39-08d6-45d0-febb-c717a6d60343"
      },
      "source": [
        "drive.mount('/drive')"
      ],
      "execution_count": 49,
      "outputs": [
        {
          "output_type": "stream",
          "name": "stdout",
          "text": [
            "Mounted at /drive\n"
          ]
        }
      ]
    },
    {
      "cell_type": "code",
      "metadata": {
        "id": "uiXWwNk7BKij",
        "colab": {
          "base_uri": "https://localhost:8080/",
          "height": 197
        },
        "outputId": "36f1d37e-e33b-4360-878d-a5afd715b724"
      },
      "source": [
        "with open('/drive/MyDrive/Colab Notebooks/Datasets/university_towns.txt', 'r') as text:\n",
        "    textfile = text.read()\n",
        "    print(textfile)"
      ],
      "execution_count": 48,
      "outputs": [
        {
          "output_type": "error",
          "ename": "OSError",
          "evalue": "ignored",
          "traceback": [
            "\u001b[0;31m---------------------------------------------------------------------------\u001b[0m",
            "\u001b[0;31mOSError\u001b[0m                                   Traceback (most recent call last)",
            "\u001b[0;32m<ipython-input-48-498d850f9daf>\u001b[0m in \u001b[0;36m<module>\u001b[0;34m()\u001b[0m\n\u001b[0;32m----> 1\u001b[0;31m \u001b[0;32mwith\u001b[0m \u001b[0mopen\u001b[0m\u001b[0;34m(\u001b[0m\u001b[0;34m'/drive/MyDrive/Colab Notebooks/Datasets/university_towns.txt'\u001b[0m\u001b[0;34m,\u001b[0m \u001b[0;34m'r'\u001b[0m\u001b[0;34m)\u001b[0m \u001b[0;32mas\u001b[0m \u001b[0mtext\u001b[0m\u001b[0;34m:\u001b[0m\u001b[0;34m\u001b[0m\u001b[0;34m\u001b[0m\u001b[0m\n\u001b[0m\u001b[1;32m      2\u001b[0m     \u001b[0mtextfile\u001b[0m \u001b[0;34m=\u001b[0m \u001b[0mtext\u001b[0m\u001b[0;34m.\u001b[0m\u001b[0mread\u001b[0m\u001b[0;34m(\u001b[0m\u001b[0;34m)\u001b[0m\u001b[0;34m\u001b[0m\u001b[0;34m\u001b[0m\u001b[0m\n\u001b[1;32m      3\u001b[0m     \u001b[0mprint\u001b[0m\u001b[0;34m(\u001b[0m\u001b[0mtextfile\u001b[0m\u001b[0;34m)\u001b[0m\u001b[0;34m\u001b[0m\u001b[0;34m\u001b[0m\u001b[0m\n",
            "\u001b[0;31mOSError\u001b[0m: [Errno 107] Transport endpoint is not connected: '/drive/MyDrive/Colab Notebooks/Datasets/university_towns.txt'"
          ]
        }
      ]
    },
    {
      "cell_type": "markdown",
      "metadata": {
        "id": "mHsNoYFZBdDG"
      },
      "source": [
        "### 2 Créer un pandas data frame à partir d'un fichier txt"
      ]
    },
    {
      "cell_type": "markdown",
      "metadata": {
        "id": "FUeVMRD4B-p3"
      },
      "source": [
        "On veut créer un DataFrame nommé towns_df à partir du fichier 'university_towns.txt'\n",
        "\n",
        "Nous voyons que nous avons des noms d'états périodiques suivis des villes universitaires de cet état: StateA TownA1 TownA2 StateB TownB1 TownB2 .... Si nous regardons la façon dont les noms d'états sont écrits dans le fichier, nous verrons qu'ils ont tous la sous-chaîne «[edit]» en eux.\n",
        "\n",
        "Nous pouvons tirer parti de ce modèle en créant une liste de tuples (état, ville) et en enveloppant cette liste dans un DataFrame:"
      ]
    },
    {
      "cell_type": "code",
      "metadata": {
        "id": "ImBBwkmmCKAy",
        "colab": {
          "base_uri": "https://localhost:8080/",
          "height": 204
        },
        "outputId": "6a289985-413c-4993-f0ea-e24124736bef"
      },
      "source": [
        "university_towns = []\n",
        "\n",
        "with open('/drive/MyDrive/Colab Notebooks/Datasets/university_towns.txt', 'r') as file:\n",
        "    items = file.readlines()\n",
        "    states = list(filter(lambda x: '[edit]' in x, items))\n",
        "    \n",
        "    for index, state in enumerate(states):\n",
        "        start = items.index(state) + 1\n",
        "        if index == 49: #since 50 states\n",
        "            end = len(items)\n",
        "        else:\n",
        "            end = items.index(states[index + 1])\n",
        "            \n",
        "        pairs = map(lambda x: [state, x], items[start:end])\n",
        "        university_towns.extend(pairs)\n",
        "        \n",
        "towns_df = pd.DataFrame(university_towns, columns = ['State', 'RegionName'])\n",
        "towns_df.head()"
      ],
      "execution_count": 50,
      "outputs": [
        {
          "output_type": "execute_result",
          "data": {
            "text/html": [
              "<div>\n",
              "<style scoped>\n",
              "    .dataframe tbody tr th:only-of-type {\n",
              "        vertical-align: middle;\n",
              "    }\n",
              "\n",
              "    .dataframe tbody tr th {\n",
              "        vertical-align: top;\n",
              "    }\n",
              "\n",
              "    .dataframe thead th {\n",
              "        text-align: right;\n",
              "    }\n",
              "</style>\n",
              "<table border=\"1\" class=\"dataframe\">\n",
              "  <thead>\n",
              "    <tr style=\"text-align: right;\">\n",
              "      <th></th>\n",
              "      <th>State</th>\n",
              "      <th>RegionName</th>\n",
              "    </tr>\n",
              "  </thead>\n",
              "  <tbody>\n",
              "    <tr>\n",
              "      <th>0</th>\n",
              "      <td>Alabama[edit]\\n</td>\n",
              "      <td>Auburn (Auburn University)[1]\\n</td>\n",
              "    </tr>\n",
              "    <tr>\n",
              "      <th>1</th>\n",
              "      <td>Alabama[edit]\\n</td>\n",
              "      <td>Florence (University of North Alabama)\\n</td>\n",
              "    </tr>\n",
              "    <tr>\n",
              "      <th>2</th>\n",
              "      <td>Alabama[edit]\\n</td>\n",
              "      <td>Jacksonville (Jacksonville State University)[2]\\n</td>\n",
              "    </tr>\n",
              "    <tr>\n",
              "      <th>3</th>\n",
              "      <td>Alabama[edit]\\n</td>\n",
              "      <td>Livingston (University of West Alabama)[2]\\n</td>\n",
              "    </tr>\n",
              "    <tr>\n",
              "      <th>4</th>\n",
              "      <td>Alabama[edit]\\n</td>\n",
              "      <td>Montevallo (University of Montevallo)[2]\\n</td>\n",
              "    </tr>\n",
              "  </tbody>\n",
              "</table>\n",
              "</div>"
            ],
            "text/plain": [
              "             State                                         RegionName\n",
              "0  Alabama[edit]\\n                    Auburn (Auburn University)[1]\\n\n",
              "1  Alabama[edit]\\n           Florence (University of North Alabama)\\n\n",
              "2  Alabama[edit]\\n  Jacksonville (Jacksonville State University)[2]\\n\n",
              "3  Alabama[edit]\\n       Livingston (University of West Alabama)[2]\\n\n",
              "4  Alabama[edit]\\n         Montevallo (University of Montevallo)[2]\\n"
            ]
          },
          "metadata": {},
          "execution_count": 50
        }
      ]
    },
    {
      "cell_type": "code",
      "metadata": {
        "id": "MFRKxs5yCVNo",
        "colab": {
          "base_uri": "https://localhost:8080/",
          "height": 204
        },
        "outputId": "c3a45544-7304-46b0-87ab-fec9b9d1a60a"
      },
      "source": [
        "towns_df = pd.DataFrame(university_towns,columns=['State', 'RegionName'])\n",
        "towns_df.head()"
      ],
      "execution_count": 51,
      "outputs": [
        {
          "output_type": "execute_result",
          "data": {
            "text/html": [
              "<div>\n",
              "<style scoped>\n",
              "    .dataframe tbody tr th:only-of-type {\n",
              "        vertical-align: middle;\n",
              "    }\n",
              "\n",
              "    .dataframe tbody tr th {\n",
              "        vertical-align: top;\n",
              "    }\n",
              "\n",
              "    .dataframe thead th {\n",
              "        text-align: right;\n",
              "    }\n",
              "</style>\n",
              "<table border=\"1\" class=\"dataframe\">\n",
              "  <thead>\n",
              "    <tr style=\"text-align: right;\">\n",
              "      <th></th>\n",
              "      <th>State</th>\n",
              "      <th>RegionName</th>\n",
              "    </tr>\n",
              "  </thead>\n",
              "  <tbody>\n",
              "    <tr>\n",
              "      <th>0</th>\n",
              "      <td>Alabama[edit]\\n</td>\n",
              "      <td>Auburn (Auburn University)[1]\\n</td>\n",
              "    </tr>\n",
              "    <tr>\n",
              "      <th>1</th>\n",
              "      <td>Alabama[edit]\\n</td>\n",
              "      <td>Florence (University of North Alabama)\\n</td>\n",
              "    </tr>\n",
              "    <tr>\n",
              "      <th>2</th>\n",
              "      <td>Alabama[edit]\\n</td>\n",
              "      <td>Jacksonville (Jacksonville State University)[2]\\n</td>\n",
              "    </tr>\n",
              "    <tr>\n",
              "      <th>3</th>\n",
              "      <td>Alabama[edit]\\n</td>\n",
              "      <td>Livingston (University of West Alabama)[2]\\n</td>\n",
              "    </tr>\n",
              "    <tr>\n",
              "      <th>4</th>\n",
              "      <td>Alabama[edit]\\n</td>\n",
              "      <td>Montevallo (University of Montevallo)[2]\\n</td>\n",
              "    </tr>\n",
              "  </tbody>\n",
              "</table>\n",
              "</div>"
            ],
            "text/plain": [
              "             State                                         RegionName\n",
              "0  Alabama[edit]\\n                    Auburn (Auburn University)[1]\\n\n",
              "1  Alabama[edit]\\n           Florence (University of North Alabama)\\n\n",
              "2  Alabama[edit]\\n  Jacksonville (Jacksonville State University)[2]\\n\n",
              "3  Alabama[edit]\\n       Livingston (University of West Alabama)[2]\\n\n",
              "4  Alabama[edit]\\n         Montevallo (University of Montevallo)[2]\\n"
            ]
          },
          "metadata": {},
          "execution_count": 51
        }
      ]
    },
    {
      "cell_type": "markdown",
      "metadata": {
        "id": "1z1kM025CdAH"
      },
      "source": [
        "### 3 Compléter la fonction clean_up pour nettoyer les colonnes de towns_df"
      ]
    },
    {
      "cell_type": "code",
      "metadata": {
        "id": "xgKLaYc6CmHs",
        "colab": {
          "base_uri": "https://localhost:8080/",
          "height": 204
        },
        "outputId": "2d527223-3ed5-48d6-d0cb-e39a183973eb"
      },
      "source": [
        "## complétrer la fonction suivante ( à la place de pass)\n",
        "def clean_up(item):\n",
        "    if '(' in item:\n",
        "        return item[:item.find('(') - 1]\n",
        "    \n",
        "    if '[' in item:\n",
        "        return item[:item.find('[')]\n",
        "    \n",
        "\n",
        "towns_df =  towns_df.applymap(clean_up)\n",
        "towns_df.head()"
      ],
      "execution_count": 52,
      "outputs": [
        {
          "output_type": "execute_result",
          "data": {
            "text/html": [
              "<div>\n",
              "<style scoped>\n",
              "    .dataframe tbody tr th:only-of-type {\n",
              "        vertical-align: middle;\n",
              "    }\n",
              "\n",
              "    .dataframe tbody tr th {\n",
              "        vertical-align: top;\n",
              "    }\n",
              "\n",
              "    .dataframe thead th {\n",
              "        text-align: right;\n",
              "    }\n",
              "</style>\n",
              "<table border=\"1\" class=\"dataframe\">\n",
              "  <thead>\n",
              "    <tr style=\"text-align: right;\">\n",
              "      <th></th>\n",
              "      <th>State</th>\n",
              "      <th>RegionName</th>\n",
              "    </tr>\n",
              "  </thead>\n",
              "  <tbody>\n",
              "    <tr>\n",
              "      <th>0</th>\n",
              "      <td>Alabama</td>\n",
              "      <td>Auburn</td>\n",
              "    </tr>\n",
              "    <tr>\n",
              "      <th>1</th>\n",
              "      <td>Alabama</td>\n",
              "      <td>Florence</td>\n",
              "    </tr>\n",
              "    <tr>\n",
              "      <th>2</th>\n",
              "      <td>Alabama</td>\n",
              "      <td>Jacksonville</td>\n",
              "    </tr>\n",
              "    <tr>\n",
              "      <th>3</th>\n",
              "      <td>Alabama</td>\n",
              "      <td>Livingston</td>\n",
              "    </tr>\n",
              "    <tr>\n",
              "      <th>4</th>\n",
              "      <td>Alabama</td>\n",
              "      <td>Montevallo</td>\n",
              "    </tr>\n",
              "  </tbody>\n",
              "</table>\n",
              "</div>"
            ],
            "text/plain": [
              "     State    RegionName\n",
              "0  Alabama        Auburn\n",
              "1  Alabama      Florence\n",
              "2  Alabama  Jacksonville\n",
              "3  Alabama    Livingston\n",
              "4  Alabama    Montevallo"
            ]
          },
          "metadata": {},
          "execution_count": 52
        }
      ]
    },
    {
      "cell_type": "markdown",
      "metadata": {
        "id": "ZC-sNxdICuWs"
      },
      "source": [
        "# **PART III ( OPTIONNELLE)**"
      ]
    },
    {
      "cell_type": "markdown",
      "metadata": {
        "id": "azQMrbUoC0mF"
      },
      "source": [
        "## **1 Renaming columns and skipping rows**"
      ]
    },
    {
      "cell_type": "markdown",
      "metadata": {
        "id": "w8Swe5MXC5tw"
      },
      "source": [
        "### **1.1 Convertir le fichier olympics.csv en dataframe pandas olympics_df**"
      ]
    },
    {
      "cell_type": "code",
      "metadata": {
        "id": "NarbRz1WC-Sf",
        "colab": {
          "base_uri": "https://localhost:8080/",
          "height": 238
        },
        "outputId": "d43febed-8604-4f5a-ac3c-7685d77835bb"
      },
      "source": [
        "# exporter 'olympics.csv' sous forme de data frame nommé olympics_df\n",
        "olympics_df = pd.read_csv('/drive/MyDrive/Colab Notebooks/Datasets/olympics.csv')\n",
        "# Afficher les 5 premières lignes\n",
        "olympics_df.head()"
      ],
      "execution_count": 55,
      "outputs": [
        {
          "output_type": "execute_result",
          "data": {
            "text/html": [
              "<div>\n",
              "<style scoped>\n",
              "    .dataframe tbody tr th:only-of-type {\n",
              "        vertical-align: middle;\n",
              "    }\n",
              "\n",
              "    .dataframe tbody tr th {\n",
              "        vertical-align: top;\n",
              "    }\n",
              "\n",
              "    .dataframe thead th {\n",
              "        text-align: right;\n",
              "    }\n",
              "</style>\n",
              "<table border=\"1\" class=\"dataframe\">\n",
              "  <thead>\n",
              "    <tr style=\"text-align: right;\">\n",
              "      <th></th>\n",
              "      <th>0</th>\n",
              "      <th>1</th>\n",
              "      <th>2</th>\n",
              "      <th>3</th>\n",
              "      <th>4</th>\n",
              "      <th>5</th>\n",
              "      <th>6</th>\n",
              "      <th>7</th>\n",
              "      <th>8</th>\n",
              "      <th>9</th>\n",
              "      <th>10</th>\n",
              "      <th>11</th>\n",
              "      <th>12</th>\n",
              "      <th>13</th>\n",
              "      <th>14</th>\n",
              "      <th>15</th>\n",
              "    </tr>\n",
              "  </thead>\n",
              "  <tbody>\n",
              "    <tr>\n",
              "      <th>0</th>\n",
              "      <td>NaN</td>\n",
              "      <td>? Summer</td>\n",
              "      <td>01 !</td>\n",
              "      <td>02 !</td>\n",
              "      <td>03 !</td>\n",
              "      <td>Total</td>\n",
              "      <td>? Winter</td>\n",
              "      <td>01 !</td>\n",
              "      <td>02 !</td>\n",
              "      <td>03 !</td>\n",
              "      <td>Total</td>\n",
              "      <td>? Games</td>\n",
              "      <td>01 !</td>\n",
              "      <td>02 !</td>\n",
              "      <td>03 !</td>\n",
              "      <td>Combined total</td>\n",
              "    </tr>\n",
              "    <tr>\n",
              "      <th>1</th>\n",
              "      <td>Afghanistan (AFG)</td>\n",
              "      <td>13</td>\n",
              "      <td>0</td>\n",
              "      <td>0</td>\n",
              "      <td>2</td>\n",
              "      <td>2</td>\n",
              "      <td>0</td>\n",
              "      <td>0</td>\n",
              "      <td>0</td>\n",
              "      <td>0</td>\n",
              "      <td>0</td>\n",
              "      <td>13</td>\n",
              "      <td>0</td>\n",
              "      <td>0</td>\n",
              "      <td>2</td>\n",
              "      <td>2</td>\n",
              "    </tr>\n",
              "    <tr>\n",
              "      <th>2</th>\n",
              "      <td>Algeria (ALG)</td>\n",
              "      <td>12</td>\n",
              "      <td>5</td>\n",
              "      <td>2</td>\n",
              "      <td>8</td>\n",
              "      <td>15</td>\n",
              "      <td>3</td>\n",
              "      <td>0</td>\n",
              "      <td>0</td>\n",
              "      <td>0</td>\n",
              "      <td>0</td>\n",
              "      <td>15</td>\n",
              "      <td>5</td>\n",
              "      <td>2</td>\n",
              "      <td>8</td>\n",
              "      <td>15</td>\n",
              "    </tr>\n",
              "    <tr>\n",
              "      <th>3</th>\n",
              "      <td>Argentina (ARG)</td>\n",
              "      <td>23</td>\n",
              "      <td>18</td>\n",
              "      <td>24</td>\n",
              "      <td>28</td>\n",
              "      <td>70</td>\n",
              "      <td>18</td>\n",
              "      <td>0</td>\n",
              "      <td>0</td>\n",
              "      <td>0</td>\n",
              "      <td>0</td>\n",
              "      <td>41</td>\n",
              "      <td>18</td>\n",
              "      <td>24</td>\n",
              "      <td>28</td>\n",
              "      <td>70</td>\n",
              "    </tr>\n",
              "    <tr>\n",
              "      <th>4</th>\n",
              "      <td>Armenia (ARM)</td>\n",
              "      <td>5</td>\n",
              "      <td>1</td>\n",
              "      <td>2</td>\n",
              "      <td>9</td>\n",
              "      <td>12</td>\n",
              "      <td>6</td>\n",
              "      <td>0</td>\n",
              "      <td>0</td>\n",
              "      <td>0</td>\n",
              "      <td>0</td>\n",
              "      <td>11</td>\n",
              "      <td>1</td>\n",
              "      <td>2</td>\n",
              "      <td>9</td>\n",
              "      <td>12</td>\n",
              "    </tr>\n",
              "  </tbody>\n",
              "</table>\n",
              "</div>"
            ],
            "text/plain": [
              "                   0         1     2     3  ...    12    13    14              15\n",
              "0                NaN  ? Summer  01 !  02 !  ...  01 !  02 !  03 !  Combined total\n",
              "1  Afghanistan (AFG)        13     0     0  ...     0     0     2               2\n",
              "2      Algeria (ALG)        12     5     2  ...     5     2     8              15\n",
              "3    Argentina (ARG)        23    18    24  ...    18    24    28              70\n",
              "4      Armenia (ARM)         5     1     2  ...     1     2     9              12\n",
              "\n",
              "[5 rows x 16 columns]"
            ]
          },
          "metadata": {},
          "execution_count": 55
        }
      ]
    },
    {
      "cell_type": "markdown",
      "metadata": {
        "id": "aD59epHQDRlb"
      },
      "source": [
        "### **1.2 Supprimer la première ligne**"
      ]
    },
    {
      "cell_type": "code",
      "metadata": {
        "id": "iSy5zSa4DT5y",
        "colab": {
          "base_uri": "https://localhost:8080/",
          "height": 306
        },
        "outputId": "81eaa317-f21a-444c-d86a-f6365c1cf4da"
      },
      "source": [
        "# exporter 'olympics.csv' sous forme de data frame nommé olympics_df en supprimant la première ligne\n",
        "olympics_df = pd.read_csv('/drive/MyDrive/Colab Notebooks/Datasets/olympics.csv', skiprows = 1, header = 0)\n",
        "# Afficher les 5 premières lignes\n",
        "olympics_df.head()"
      ],
      "execution_count": 56,
      "outputs": [
        {
          "output_type": "execute_result",
          "data": {
            "text/html": [
              "<div>\n",
              "<style scoped>\n",
              "    .dataframe tbody tr th:only-of-type {\n",
              "        vertical-align: middle;\n",
              "    }\n",
              "\n",
              "    .dataframe tbody tr th {\n",
              "        vertical-align: top;\n",
              "    }\n",
              "\n",
              "    .dataframe thead th {\n",
              "        text-align: right;\n",
              "    }\n",
              "</style>\n",
              "<table border=\"1\" class=\"dataframe\">\n",
              "  <thead>\n",
              "    <tr style=\"text-align: right;\">\n",
              "      <th></th>\n",
              "      <th>Unnamed: 0</th>\n",
              "      <th>? Summer</th>\n",
              "      <th>01 !</th>\n",
              "      <th>02 !</th>\n",
              "      <th>03 !</th>\n",
              "      <th>Total</th>\n",
              "      <th>? Winter</th>\n",
              "      <th>01 !.1</th>\n",
              "      <th>02 !.1</th>\n",
              "      <th>03 !.1</th>\n",
              "      <th>Total.1</th>\n",
              "      <th>? Games</th>\n",
              "      <th>01 !.2</th>\n",
              "      <th>02 !.2</th>\n",
              "      <th>03 !.2</th>\n",
              "      <th>Combined total</th>\n",
              "    </tr>\n",
              "  </thead>\n",
              "  <tbody>\n",
              "    <tr>\n",
              "      <th>0</th>\n",
              "      <td>Afghanistan (AFG)</td>\n",
              "      <td>13</td>\n",
              "      <td>0</td>\n",
              "      <td>0</td>\n",
              "      <td>2</td>\n",
              "      <td>2</td>\n",
              "      <td>0</td>\n",
              "      <td>0</td>\n",
              "      <td>0</td>\n",
              "      <td>0</td>\n",
              "      <td>0</td>\n",
              "      <td>13</td>\n",
              "      <td>0</td>\n",
              "      <td>0</td>\n",
              "      <td>2</td>\n",
              "      <td>2</td>\n",
              "    </tr>\n",
              "    <tr>\n",
              "      <th>1</th>\n",
              "      <td>Algeria (ALG)</td>\n",
              "      <td>12</td>\n",
              "      <td>5</td>\n",
              "      <td>2</td>\n",
              "      <td>8</td>\n",
              "      <td>15</td>\n",
              "      <td>3</td>\n",
              "      <td>0</td>\n",
              "      <td>0</td>\n",
              "      <td>0</td>\n",
              "      <td>0</td>\n",
              "      <td>15</td>\n",
              "      <td>5</td>\n",
              "      <td>2</td>\n",
              "      <td>8</td>\n",
              "      <td>15</td>\n",
              "    </tr>\n",
              "    <tr>\n",
              "      <th>2</th>\n",
              "      <td>Argentina (ARG)</td>\n",
              "      <td>23</td>\n",
              "      <td>18</td>\n",
              "      <td>24</td>\n",
              "      <td>28</td>\n",
              "      <td>70</td>\n",
              "      <td>18</td>\n",
              "      <td>0</td>\n",
              "      <td>0</td>\n",
              "      <td>0</td>\n",
              "      <td>0</td>\n",
              "      <td>41</td>\n",
              "      <td>18</td>\n",
              "      <td>24</td>\n",
              "      <td>28</td>\n",
              "      <td>70</td>\n",
              "    </tr>\n",
              "    <tr>\n",
              "      <th>3</th>\n",
              "      <td>Armenia (ARM)</td>\n",
              "      <td>5</td>\n",
              "      <td>1</td>\n",
              "      <td>2</td>\n",
              "      <td>9</td>\n",
              "      <td>12</td>\n",
              "      <td>6</td>\n",
              "      <td>0</td>\n",
              "      <td>0</td>\n",
              "      <td>0</td>\n",
              "      <td>0</td>\n",
              "      <td>11</td>\n",
              "      <td>1</td>\n",
              "      <td>2</td>\n",
              "      <td>9</td>\n",
              "      <td>12</td>\n",
              "    </tr>\n",
              "    <tr>\n",
              "      <th>4</th>\n",
              "      <td>Australasia (ANZ) [ANZ]</td>\n",
              "      <td>2</td>\n",
              "      <td>3</td>\n",
              "      <td>4</td>\n",
              "      <td>5</td>\n",
              "      <td>12</td>\n",
              "      <td>0</td>\n",
              "      <td>0</td>\n",
              "      <td>0</td>\n",
              "      <td>0</td>\n",
              "      <td>0</td>\n",
              "      <td>2</td>\n",
              "      <td>3</td>\n",
              "      <td>4</td>\n",
              "      <td>5</td>\n",
              "      <td>12</td>\n",
              "    </tr>\n",
              "  </tbody>\n",
              "</table>\n",
              "</div>"
            ],
            "text/plain": [
              "                Unnamed: 0  ? Summer  01 !  ...  02 !.2  03 !.2  Combined total\n",
              "0        Afghanistan (AFG)        13     0  ...       0       2               2\n",
              "1            Algeria (ALG)        12     5  ...       2       8              15\n",
              "2          Argentina (ARG)        23    18  ...      24      28              70\n",
              "3            Armenia (ARM)         5     1  ...       2       9              12\n",
              "4  Australasia (ANZ) [ANZ]         2     3  ...       4       5              12\n",
              "\n",
              "[5 rows x 16 columns]"
            ]
          },
          "metadata": {},
          "execution_count": 56
        }
      ]
    },
    {
      "cell_type": "markdown",
      "metadata": {
        "id": "GHGWaRgNDg4K"
      },
      "source": [
        "### **1.3 Changer le nom des colonnes en utilisant le dictionnaire suivant :**"
      ]
    },
    {
      "cell_type": "code",
      "metadata": {
        "id": "USOswWi-CZwr",
        "colab": {
          "base_uri": "https://localhost:8080/",
          "height": 306
        },
        "outputId": "a9fcd07c-c843-47d6-a0c4-1f87667b4ab1"
      },
      "source": [
        "# Changer le nom des colonnes en utilisant le dictionnaire new_names\n",
        "new_names =  {'Unnamed: 0': 'Country',\n",
        "              '? Summer': 'Summer Olympics',\n",
        "              '01 !': 'Gold',\n",
        "              '02 !': 'Silver',\n",
        "              '03 !': 'Bronze',\n",
        "              '? Winter': 'Winter Olympics',\n",
        "              '01 !.1': 'Gold.1',\n",
        "              '02 !.1': 'Silver.1',\n",
        "              '03 !.1': 'Bronze.1',\n",
        "              '? Games': '# Games', \n",
        "              '01 !.2': 'Gold.2',\n",
        "              '02 !.2': 'Silver.2',\n",
        "              '03 !.2': 'Bronze.2'}\n",
        "\n",
        "olympics_df.rename(columns = new_names, inplace = True)\n",
        "\n",
        "# Afficher les 5 premières lignes\n",
        "olympics_df.head()"
      ],
      "execution_count": 57,
      "outputs": [
        {
          "output_type": "execute_result",
          "data": {
            "text/html": [
              "<div>\n",
              "<style scoped>\n",
              "    .dataframe tbody tr th:only-of-type {\n",
              "        vertical-align: middle;\n",
              "    }\n",
              "\n",
              "    .dataframe tbody tr th {\n",
              "        vertical-align: top;\n",
              "    }\n",
              "\n",
              "    .dataframe thead th {\n",
              "        text-align: right;\n",
              "    }\n",
              "</style>\n",
              "<table border=\"1\" class=\"dataframe\">\n",
              "  <thead>\n",
              "    <tr style=\"text-align: right;\">\n",
              "      <th></th>\n",
              "      <th>Country</th>\n",
              "      <th>Summer Olympics</th>\n",
              "      <th>Gold</th>\n",
              "      <th>Silver</th>\n",
              "      <th>Bronze</th>\n",
              "      <th>Total</th>\n",
              "      <th>Winter Olympics</th>\n",
              "      <th>Gold.1</th>\n",
              "      <th>Silver.1</th>\n",
              "      <th>Bronze.1</th>\n",
              "      <th>Total.1</th>\n",
              "      <th># Games</th>\n",
              "      <th>Gold.2</th>\n",
              "      <th>Silver.2</th>\n",
              "      <th>Bronze.2</th>\n",
              "      <th>Combined total</th>\n",
              "    </tr>\n",
              "  </thead>\n",
              "  <tbody>\n",
              "    <tr>\n",
              "      <th>0</th>\n",
              "      <td>Afghanistan (AFG)</td>\n",
              "      <td>13</td>\n",
              "      <td>0</td>\n",
              "      <td>0</td>\n",
              "      <td>2</td>\n",
              "      <td>2</td>\n",
              "      <td>0</td>\n",
              "      <td>0</td>\n",
              "      <td>0</td>\n",
              "      <td>0</td>\n",
              "      <td>0</td>\n",
              "      <td>13</td>\n",
              "      <td>0</td>\n",
              "      <td>0</td>\n",
              "      <td>2</td>\n",
              "      <td>2</td>\n",
              "    </tr>\n",
              "    <tr>\n",
              "      <th>1</th>\n",
              "      <td>Algeria (ALG)</td>\n",
              "      <td>12</td>\n",
              "      <td>5</td>\n",
              "      <td>2</td>\n",
              "      <td>8</td>\n",
              "      <td>15</td>\n",
              "      <td>3</td>\n",
              "      <td>0</td>\n",
              "      <td>0</td>\n",
              "      <td>0</td>\n",
              "      <td>0</td>\n",
              "      <td>15</td>\n",
              "      <td>5</td>\n",
              "      <td>2</td>\n",
              "      <td>8</td>\n",
              "      <td>15</td>\n",
              "    </tr>\n",
              "    <tr>\n",
              "      <th>2</th>\n",
              "      <td>Argentina (ARG)</td>\n",
              "      <td>23</td>\n",
              "      <td>18</td>\n",
              "      <td>24</td>\n",
              "      <td>28</td>\n",
              "      <td>70</td>\n",
              "      <td>18</td>\n",
              "      <td>0</td>\n",
              "      <td>0</td>\n",
              "      <td>0</td>\n",
              "      <td>0</td>\n",
              "      <td>41</td>\n",
              "      <td>18</td>\n",
              "      <td>24</td>\n",
              "      <td>28</td>\n",
              "      <td>70</td>\n",
              "    </tr>\n",
              "    <tr>\n",
              "      <th>3</th>\n",
              "      <td>Armenia (ARM)</td>\n",
              "      <td>5</td>\n",
              "      <td>1</td>\n",
              "      <td>2</td>\n",
              "      <td>9</td>\n",
              "      <td>12</td>\n",
              "      <td>6</td>\n",
              "      <td>0</td>\n",
              "      <td>0</td>\n",
              "      <td>0</td>\n",
              "      <td>0</td>\n",
              "      <td>11</td>\n",
              "      <td>1</td>\n",
              "      <td>2</td>\n",
              "      <td>9</td>\n",
              "      <td>12</td>\n",
              "    </tr>\n",
              "    <tr>\n",
              "      <th>4</th>\n",
              "      <td>Australasia (ANZ) [ANZ]</td>\n",
              "      <td>2</td>\n",
              "      <td>3</td>\n",
              "      <td>4</td>\n",
              "      <td>5</td>\n",
              "      <td>12</td>\n",
              "      <td>0</td>\n",
              "      <td>0</td>\n",
              "      <td>0</td>\n",
              "      <td>0</td>\n",
              "      <td>0</td>\n",
              "      <td>2</td>\n",
              "      <td>3</td>\n",
              "      <td>4</td>\n",
              "      <td>5</td>\n",
              "      <td>12</td>\n",
              "    </tr>\n",
              "  </tbody>\n",
              "</table>\n",
              "</div>"
            ],
            "text/plain": [
              "                   Country  Summer Olympics  ...  Bronze.2  Combined total\n",
              "0        Afghanistan (AFG)               13  ...         2               2\n",
              "1            Algeria (ALG)               12  ...         8              15\n",
              "2          Argentina (ARG)               23  ...        28              70\n",
              "3            Armenia (ARM)                5  ...         9              12\n",
              "4  Australasia (ANZ) [ANZ]                2  ...         5              12\n",
              "\n",
              "[5 rows x 16 columns]"
            ]
          },
          "metadata": {},
          "execution_count": 57
        }
      ]
    }
  ]
}