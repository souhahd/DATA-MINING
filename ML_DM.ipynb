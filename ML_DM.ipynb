{
  "nbformat": 4,
  "nbformat_minor": 0,
  "metadata": {
    "colab": {
      "name": "ML_DM.ipynb",
      "provenance": [],
      "collapsed_sections": [],
      "authorship_tag": "ABX9TyP7ZVywAp8bUQj/N9oKXpaf",
      "include_colab_link": true
    },
    "kernelspec": {
      "name": "python3",
      "display_name": "Python 3"
    },
    "language_info": {
      "name": "python"
    }
  },
  "cells": [
    {
      "cell_type": "markdown",
      "metadata": {
        "id": "view-in-github",
        "colab_type": "text"
      },
      "source": [
        "<a href=\"https://colab.research.google.com/github/souhahd/DATA-MINING/blob/main/ML_DM.ipynb\" target=\"_parent\"><img src=\"https://colab.research.google.com/assets/colab-badge.svg\" alt=\"Open In Colab\"/></a>"
      ]
    },
    {
      "cell_type": "markdown",
      "metadata": {
        "id": "vkqMrG7gPb5f"
      },
      "source": [
        "# **MINI PROJET: DATA MINING MACHINE LEARNING**"
      ]
    },
    {
      "cell_type": "markdown",
      "metadata": {
        "id": "ydP5eoCuOx7o"
      },
      "source": [
        "**Définition** \\\\\n",
        "Ensemble de techniques permettant l’extraction de connaissances sous la forme de modèles à partir de grandes masses de données. \\\\\n",
        "Ces modèles peuvent être de nature :\n",
        "\n",
        "\n",
        "> Descriptive : permettant d’expliquer le comportement actuel des données.\n",
        "\n",
        "\n",
        "> Prédictive : comportement futur des données.\n",
        "\n",
        "\n",
        "\n",
        "\n",
        "\n"
      ]
    },
    {
      "cell_type": "markdown",
      "metadata": {
        "id": "iEM-LSJEPbVI"
      },
      "source": [
        "**Famille d'apprentissage**\n",
        "\n",
        "> Apprentissage supervisé\n",
        "\n",
        "\n",
        "> Apprentissage non-supervisé\n",
        "\n",
        "\n",
        "> Apprentissage par renforcement\n",
        "\n",
        "\n",
        "\n",
        "\n",
        "\n"
      ]
    },
    {
      "cell_type": "markdown",
      "metadata": {
        "id": "78BjGIfBR-cd"
      },
      "source": [
        "### **APPRENTISSAGE SUPERVISÉ**"
      ]
    },
    {
      "cell_type": "markdown",
      "metadata": {
        "id": "wepl6NwdSGqo"
      },
      "source": [
        "Apprendre une fonction de prédiction à partir d’exemples\n",
        "annotés : \n",
        "\n",
        "\n",
        "> Classification\n",
        "\n",
        "Lorsque la valeur cible à prédire est discrète.\n",
        "\n",
        "> Régression \\\\\n",
        " \n",
        "Lorsque la valeur cible à prédire est continue.\n",
        "\n",
        "**AVANTAGES** \\\\\n",
        "➤ Très efficace quand on a suffisamment de données ; \\\\\n",
        "➤ Plus performant que l’homme pour certains problèmes. \\\\\n",
        "**INCONVÉNIENTS** \\\\\n",
        "➤ Il faut beaucoup de données ; \\\\\n",
        "➤ Les données doivent être annotées.\n"
      ]
    },
    {
      "cell_type": "code",
      "metadata": {
        "id": "LLBb2f_xOSYp"
      },
      "source": [
        ""
      ],
      "execution_count": null,
      "outputs": []
    },
    {
      "cell_type": "markdown",
      "metadata": {
        "id": "_a8hfnFHTuNx"
      },
      "source": [
        "### **APPRENTISSAGE NON SUPERVISÉ**\n",
        "➤ Regrouper des données similaires, mais sans annotation. \\\\\n",
        "➤ C’est un problème plus difficile."
      ]
    },
    {
      "cell_type": "markdown",
      "metadata": {
        "id": "KcE-vj8JaRy6"
      },
      "source": [
        "1. Importation bibliothèque"
      ]
    },
    {
      "cell_type": "code",
      "metadata": {
        "id": "FSbVJvZGUFq0"
      },
      "source": [
        "import numpy as np\n",
        "import matplotlib.pyplot as plt\n",
        "from sklearn.datasets import make_blobs"
      ],
      "execution_count": 1,
      "outputs": []
    },
    {
      "cell_type": "code",
      "metadata": {
        "id": "pD6Oyyi_a_i8"
      },
      "source": [
        "from sklearn.cluster import KMeans"
      ],
      "execution_count": 2,
      "outputs": []
    },
    {
      "cell_type": "code",
      "metadata": {
        "colab": {
          "base_uri": "https://localhost:8080/",
          "height": 282
        },
        "id": "nfwvcTgmbC0a",
        "outputId": "a5f70c64-5464-4cb3-a57d-ecf395917440"
      },
      "source": [
        "# Génération de données\n",
        "X, y = make_blobs(n_samples=100, centers=3, cluster_std=0.4, random_state=0)\n",
        "plt.scatter(X[:,0], X[:,1])"
      ],
      "execution_count": 3,
      "outputs": [
        {
          "output_type": "execute_result",
          "data": {
            "text/plain": [
              "<matplotlib.collections.PathCollection at 0x7fda1c8ed250>"
            ]
          },
          "metadata": {},
          "execution_count": 3
        },
        {
          "output_type": "display_data",
          "data": {
            "image/png": "[encoded data removed]",
            "text/plain": [
              "<Figure size 432x288 with 1 Axes>"
            ]
          },
          "metadata": {
            "needs_background": "light"
          }
        }
      ]
    },
    {
      "cell_type": "code",
      "metadata": {
        "colab": {
          "base_uri": "https://localhost:8080/",
          "height": 282
        },
        "id": "TZEUjHxVbMtA",
        "outputId": "6e6b0d3e-12c1-4a5c-9b8a-ffb56c1d3503"
      },
      "source": [
        "model = KMeans(n_clusters=3)\n",
        "model.fit(X)\n",
        "model.predict(X)\n",
        "plt.scatter(X[:,0], X[:,1], c=model.predict(X))\n",
        "plt.scatter(model.cluster_centers_[:,0], model.cluster_centers_[:,1], c='r')\n",
        "model.score(X)"
      ],
      "execution_count": 4,
      "outputs": [
        {
          "output_type": "execute_result",
          "data": {
            "text/plain": [
              "-30.87053128014068"
            ]
          },
          "metadata": {},
          "execution_count": 4
        },
        {
          "output_type": "display_data",
          "data": {
            "image/png": "[encoded data removed]",
            "text/plain": [
              "<Figure size 432x288 with 1 Axes>"
            ]
          },
          "metadata": {
            "needs_background": "light"
          }
        }
      ]
    },
    {
      "cell_type": "code",
      "metadata": {
        "colab": {
          "base_uri": "https://localhost:8080/",
          "height": 296
        },
        "id": "H6nk2QiIbgsR",
        "outputId": "d8f941b8-e3f5-4207-d9c7-4a0c656b9024"
      },
      "source": [
        "inertia = []\n",
        "K_range = range(1, 20)\n",
        "for k in K_range:\n",
        "    model = KMeans(n_clusters=k).fit(X)\n",
        "    inertia.append(model.inertia_)\n",
        "\n",
        "plt.plot(K_range, inertia)\n",
        "plt.xlabel('nombre de clusters')\n",
        "plt.ylabel('Cout du modele')"
      ],
      "execution_count": 6,
      "outputs": [
        {
          "output_type": "execute_result",
          "data": {
            "text/plain": [
              "Text(0, 0.5, 'Cout du modele')"
            ]
          },
          "metadata": {},
          "execution_count": 6
        },
        {
          "output_type": "display_data",
          "data": {
            "image/png": "[encoded data removed]",
            "text/plain": [
              "<Figure size 432x288 with 1 Axes>"
            ]
          },
          "metadata": {
            "needs_background": "light"
          }
        }
      ]
    },
    {
      "cell_type": "markdown",
      "metadata": {
        "id": "8cK44uuRUGHh"
      },
      "source": [
        "### **APPRENTISSAGE PAR RENFORCEMENT**\n",
        "L'apprentissage par renforcement consiste, pour un agent\n",
        "autonome, à apprendre les actions à prendre, à partir\n",
        "d'expériences, de façon à optimiser une récompense au cours du\n",
        "temps.  \\\\\n",
        "➤ imiter la façon dont les animaux ou les humains\n",
        "apprennent."
      ]
    },
    {
      "cell_type": "code",
      "metadata": {
        "id": "WBWo5uXvU_UF"
      },
      "source": [
        ""
      ],
      "execution_count": null,
      "outputs": []
    },
    {
      "cell_type": "code",
      "metadata": {
        "id": "xmMCDltjZbrL"
      },
      "source": [
        ""
      ],
      "execution_count": null,
      "outputs": []
    }
  ]
}